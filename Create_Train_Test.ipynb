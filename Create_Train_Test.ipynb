{
  "nbformat": 4,
  "nbformat_minor": 0,
  "metadata": {
    "colab": {
      "name": "Create_Train_Test.ipynb",
      "provenance": []
    },
    "kernelspec": {
      "name": "python3",
      "display_name": "Python 3"
    }
  },
  "cells": [
    {
      "cell_type": "code",
      "metadata": {
        "id": "ldMgQfp6L1fx",
        "outputId": "b4001984-de03-4270-e186-29caaab5a5da",
        "colab": {
          "base_uri": "https://localhost:8080/"
        }
      },
      "source": [
        "from google.colab import drive\n",
        "drive.mount('/content/gdrive')"
      ],
      "execution_count": null,
      "outputs": [
        {
          "output_type": "stream",
          "text": [
            "Mounted at /content/gdrive\n"
          ],
          "name": "stdout"
        }
      ]
    },
    {
      "cell_type": "code",
      "metadata": {
        "id": "0zMZtSvLMELH"
      },
      "source": [
        "import os\n",
        "import shutil\n",
        "import random\n",
        "\n",
        "def move_random(input_dir, output_dir, percent):\n",
        "  file_list = [file for file in os.listdir(input_dir) if os.path.isfile(os.path.join(input_dir, file))]\n",
        "  random_files = random.sample(file_list, int((percent/100)*len(file_list)))\n",
        "  for file in random_files:\n",
        "    shutil.move(os.path.join(input_dir, file), output_dir)"
      ],
      "execution_count": null,
      "outputs": []
    },
    {
      "cell_type": "code",
      "metadata": {
        "id": "TmNdLQsSTK5k"
      },
      "source": [
        "move_random('/content/gdrive/My Drive/Arihant/Dataset/drone', '/content/gdrive/My Drive/Arihant/Test_Set/drone', 15)"
      ],
      "execution_count": null,
      "outputs": []
    },
    {
      "cell_type": "code",
      "metadata": {
        "id": "hPUa1LtdTvL0"
      },
      "source": [
        "move_random('/content/gdrive/My Drive/Arihant/Dataset/fighter-jet', '/content/gdrive/My Drive/Arihant/Test_Set/fighter-jet', 15)"
      ],
      "execution_count": null,
      "outputs": []
    },
    {
      "cell_type": "code",
      "metadata": {
        "id": "6AirRLbyUpEg"
      },
      "source": [
        "move_random('/content/gdrive/My Drive/Arihant/Dataset/helicopter', '/content/gdrive/My Drive/Arihant/Test_Set/helicopter', 15)"
      ],
      "execution_count": null,
      "outputs": []
    },
    {
      "cell_type": "code",
      "metadata": {
        "id": "H3fRYf-XVIDk"
      },
      "source": [
        "move_random('/content/gdrive/My Drive/Arihant/Dataset/missile', '/content/gdrive/My Drive/Arihant/Test_Set/missile', 15)"
      ],
      "execution_count": null,
      "outputs": []
    },
    {
      "cell_type": "code",
      "metadata": {
        "id": "Wz0TvtDUVNM9"
      },
      "source": [
        "move_random('/content/gdrive/My Drive/Arihant/Dataset/passenger-plane', '/content/gdrive/My Drive/Arihant/Test_Set/passenger-plane', 15)"
      ],
      "execution_count": null,
      "outputs": []
    },
    {
      "cell_type": "code",
      "metadata": {
        "id": "-wvaH68ZVS5a"
      },
      "source": [
        "move_random('/content/gdrive/My Drive/Arihant/Dataset/rocket', '/content/gdrive/My Drive/Arihant/Test_Set/rocket', 15)"
      ],
      "execution_count": null,
      "outputs": []
    }
  ]
}